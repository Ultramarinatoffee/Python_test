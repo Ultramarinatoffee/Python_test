{
 "cells": [
  {
   "cell_type": "code",
   "execution_count": 11,
   "metadata": {},
   "outputs": [
    {
     "name": "stdout",
     "output_type": "stream",
     "text": [
      "Hello, Python in VSCode!\n",
      "Salut, ma petite butterschotch\n",
      "Salut, ma petite chicoree22\n",
      "1\n",
      "2\n",
      "3\n",
      "True\n",
      "25\n",
      "26\n",
      "102\n",
      "0\n",
      "1\n",
      "2\n",
      "Salut, ma petite chicoree22\n",
      "Salut, ma petite chicoree22\n",
      "Salut, ma petite chicoree22\n",
      "Salut, ma petite chicoree22\n",
      "Salut, ma petite chicoree22\n"
     ]
    }
   ],
   "source": [
    "print(\"Hello, Python in VSCode!\")\n",
    "print(\"Salut, ma petite butterschotch\")\n",
    "mon_message = \"Salut, ma petite chicoree22\"\n",
    "print(mon_message)\n",
    "a = 1\n",
    "b = 2\n",
    "print(a)\n",
    "print(b)\n",
    "print(a+b)\n",
    "print (a<b)  \n",
    "var = 25\n",
    "print(var)\n",
    "var = var + 1\n",
    "print (var)\n",
    "a = 102\n",
    "while a < 10:\n",
    "    a = a +1\n",
    "    print(a)\n",
    "\n",
    "for cptr in range(3):\n",
    "    print(cptr)\n",
    "nombreMessage = 5\n",
    "for i in range(nombreMessage):\n",
    "    print(mon_message)\n",
    "    \n",
    "    \n"
   ]
  }
 ],
 "metadata": {
  "kernelspec": {
   "display_name": "Python 3",
   "language": "python",
   "name": "python3"
  },
  "language_info": {
   "codemirror_mode": {
    "name": "ipython",
    "version": 3
   },
   "file_extension": ".py",
   "mimetype": "text/x-python",
   "name": "python",
   "nbconvert_exporter": "python",
   "pygments_lexer": "ipython3",
   "version": "3.12.3"
  }
 },
 "nbformat": 4,
 "nbformat_minor": 2
}
